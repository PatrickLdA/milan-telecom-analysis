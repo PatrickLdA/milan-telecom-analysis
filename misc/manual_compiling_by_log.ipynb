{
 "cells": [
  {
   "cell_type": "code",
   "execution_count": 15,
   "metadata": {},
   "outputs": [],
   "source": [
    "import re\n",
    "import pandas as pd"
   ]
  },
  {
   "cell_type": "code",
   "execution_count": 12,
   "metadata": {},
   "outputs": [],
   "source": [
    "# Inicialize uma lista para armazenar os valores de NMAE_metric\n",
    "nmae_values = []\n",
    "\n",
    "# Abra o arquivo de texto\n",
    "with open('/home/patrick/Documents/milan-telecom-analysis-2022-10-11/logs/log_hourly_3.txt', 'r') as file:\n",
    "    lines = file.readlines()\n",
    "\n",
    "# Inicialize uma variável para armazenar o número da célula\n",
    "cell_number = None\n",
    "current_nmae = None"
   ]
  },
  {
   "cell_type": "code",
   "execution_count": 13,
   "metadata": {},
   "outputs": [],
   "source": [
    "# Percorra as linhas do arquivo\n",
    "for line in lines:\n",
    "    # Use expressões regulares para extrair NMAE_metric e informações do \"END OF CELL\"\n",
    "    nmae_match = re.search(r'NMAE_metric: (\\d+\\.\\d+)', line)\n",
    "    cell_match = re.search(r'END OF CELL (\\d+)', line)\n",
    "\n",
    "    if nmae_match:\n",
    "        current_nmae = nmae_match.group(1)\n",
    "    elif cell_match:\n",
    "        cell_number = cell_match.group(1)\n",
    "        if current_nmae is not None:\n",
    "            nmae_values.append(f'{cell_number}_nmae={current_nmae}')"
   ]
  },
  {
   "cell_type": "code",
   "execution_count": 14,
   "metadata": {},
   "outputs": [
    {
     "name": "stdout",
     "output_type": "stream",
     "text": [
      "9307_nmae=0.1020\n",
      "8107_nmae=0.1047\n",
      "9319_nmae=0.0946\n",
      "8119_nmae=0.1106\n",
      "6807_nmae=0.0921\n",
      "5607_nmae=0.1244\n",
      "6819_nmae=0.1359\n",
      "5619_nmae=0.1276\n",
      "9332_nmae=0.1250\n",
      "8132_nmae=0.1387\n",
      "9344_nmae=0.0883\n",
      "8144_nmae=0.1099\n",
      "6832_nmae=0.1135\n",
      "5632_nmae=0.0963\n",
      "6844_nmae=0.0917\n",
      "5644_nmae=0.1051\n",
      "4307_nmae=0.1232\n",
      "3107_nmae=0.1138\n",
      "4319_nmae=0.1342\n",
      "3119_nmae=0.1065\n",
      "1807_nmae=0.1210\n",
      "607_nmae=0.1160\n",
      "1819_nmae=0.0992\n",
      "619_nmae=0.1187\n",
      "4332_nmae=0.1235\n",
      "3132_nmae=0.1203\n",
      "4344_nmae=0.1604\n",
      "3144_nmae=0.1719\n",
      "1832_nmae=0.1322\n",
      "632_nmae=0.0947\n",
      "1844_nmae=0.1543\n",
      "644_nmae=0.0983\n",
      "9357_nmae=0.0845\n",
      "8157_nmae=0.1195\n",
      "9369_nmae=0.0801\n",
      "8169_nmae=0.1228\n",
      "6857_nmae=0.0846\n",
      "5657_nmae=0.0915\n",
      "6869_nmae=0.0894\n",
      "5669_nmae=0.0867\n",
      "9382_nmae=0.1079\n",
      "8182_nmae=0.0947\n",
      "9394_nmae=0.1084\n",
      "8194_nmae=0.0958\n",
      "6882_nmae=0.1211\n",
      "5682_nmae=0.1247\n",
      "6894_nmae=0.0956\n",
      "5694_nmae=0.1401\n",
      "4357_nmae=0.0853\n",
      "3157_nmae=0.1111\n",
      "4369_nmae=0.0941\n",
      "3169_nmae=0.0750\n",
      "1857_nmae=0.1219\n",
      "657_nmae=0.1615\n",
      "1869_nmae=0.1263\n",
      "669_nmae=0.1185\n",
      "4382_nmae=0.1338\n",
      "3182_nmae=0.1100\n"
     ]
    }
   ],
   "source": [
    "# Agora, a lista nmae_values contém os valores de NMAE_metric no formato desejado\n",
    "for item in nmae_values:\n",
    "    print(item)"
   ]
  },
  {
   "cell_type": "code",
   "execution_count": 27,
   "metadata": {},
   "outputs": [],
   "source": [
    "# Criar um dicionário para armazenar os valores\n",
    "values_dict = {}\n",
    "for item in nmae_values:\n",
    "    key, value = item.split('=')\n",
    "    values_dict[key] = float(value)"
   ]
  },
  {
   "cell_type": "code",
   "execution_count": 28,
   "metadata": {},
   "outputs": [
    {
     "data": {
      "text/plain": [
       "{'9307_nmae': 0.102,\n",
       " '8107_nmae': 0.1047,\n",
       " '9319_nmae': 0.0946,\n",
       " '8119_nmae': 0.1106,\n",
       " '6807_nmae': 0.0921,\n",
       " '5607_nmae': 0.1244,\n",
       " '6819_nmae': 0.1359,\n",
       " '5619_nmae': 0.1276,\n",
       " '9332_nmae': 0.125,\n",
       " '8132_nmae': 0.1387,\n",
       " '9344_nmae': 0.0883,\n",
       " '8144_nmae': 0.1099,\n",
       " '6832_nmae': 0.1135,\n",
       " '5632_nmae': 0.0963,\n",
       " '6844_nmae': 0.0917,\n",
       " '5644_nmae': 0.1051,\n",
       " '4307_nmae': 0.1232,\n",
       " '3107_nmae': 0.1138,\n",
       " '4319_nmae': 0.1342,\n",
       " '3119_nmae': 0.1065,\n",
       " '1807_nmae': 0.121,\n",
       " '607_nmae': 0.116,\n",
       " '1819_nmae': 0.0992,\n",
       " '619_nmae': 0.1187,\n",
       " '4332_nmae': 0.1235,\n",
       " '3132_nmae': 0.1203,\n",
       " '4344_nmae': 0.1604,\n",
       " '3144_nmae': 0.1719,\n",
       " '1832_nmae': 0.1322,\n",
       " '632_nmae': 0.0947,\n",
       " '1844_nmae': 0.1543,\n",
       " '644_nmae': 0.0983,\n",
       " '9357_nmae': 0.0845,\n",
       " '8157_nmae': 0.1195,\n",
       " '9369_nmae': 0.0801,\n",
       " '8169_nmae': 0.1228,\n",
       " '6857_nmae': 0.0846,\n",
       " '5657_nmae': 0.0915,\n",
       " '6869_nmae': 0.0894,\n",
       " '5669_nmae': 0.0867,\n",
       " '9382_nmae': 0.1079,\n",
       " '8182_nmae': 0.0947,\n",
       " '9394_nmae': 0.1084,\n",
       " '8194_nmae': 0.0958,\n",
       " '6882_nmae': 0.1211,\n",
       " '5682_nmae': 0.1247,\n",
       " '6894_nmae': 0.0956,\n",
       " '5694_nmae': 0.1401,\n",
       " '4357_nmae': 0.0853,\n",
       " '3157_nmae': 0.1111,\n",
       " '4369_nmae': 0.0941,\n",
       " '3169_nmae': 0.075,\n",
       " '1857_nmae': 0.1219,\n",
       " '657_nmae': 0.1615,\n",
       " '1869_nmae': 0.1263,\n",
       " '669_nmae': 0.1185,\n",
       " '4382_nmae': 0.1338,\n",
       " '3182_nmae': 0.11}"
      ]
     },
     "execution_count": 28,
     "metadata": {},
     "output_type": "execute_result"
    }
   ],
   "source": [
    "values_dict"
   ]
  },
  {
   "cell_type": "code",
   "execution_count": 29,
   "metadata": {},
   "outputs": [],
   "source": [
    "# Adicionar os valores ausentes com 0\n",
    "# for i in range(682, 690, 1):\n",
    "#     key = str(i) + '_nmae'\n",
    "#     if key not in values_dict:\n",
    "#         values_dict[key] = 0.0\n",
    "\n",
    "# Criar um DataFrame do pandas a partir do dicionário\n",
    "df = pd.DataFrame(values_dict, index=[49])\n",
    "\n",
    "# Transpor o DataFrame para que os valores fiquem na linha superior\n",
    "df = df.T.transpose()"
   ]
  },
  {
   "cell_type": "code",
   "execution_count": 30,
   "metadata": {},
   "outputs": [
    {
     "data": {
      "text/html": [
       "<div>\n",
       "<style scoped>\n",
       "    .dataframe tbody tr th:only-of-type {\n",
       "        vertical-align: middle;\n",
       "    }\n",
       "\n",
       "    .dataframe tbody tr th {\n",
       "        vertical-align: top;\n",
       "    }\n",
       "\n",
       "    .dataframe thead th {\n",
       "        text-align: right;\n",
       "    }\n",
       "</style>\n",
       "<table border=\"1\" class=\"dataframe\">\n",
       "  <thead>\n",
       "    <tr style=\"text-align: right;\">\n",
       "      <th></th>\n",
       "      <th>9307_nmae</th>\n",
       "      <th>8107_nmae</th>\n",
       "      <th>9319_nmae</th>\n",
       "      <th>8119_nmae</th>\n",
       "      <th>6807_nmae</th>\n",
       "      <th>5607_nmae</th>\n",
       "      <th>6819_nmae</th>\n",
       "      <th>5619_nmae</th>\n",
       "      <th>9332_nmae</th>\n",
       "      <th>8132_nmae</th>\n",
       "      <th>...</th>\n",
       "      <th>4357_nmae</th>\n",
       "      <th>3157_nmae</th>\n",
       "      <th>4369_nmae</th>\n",
       "      <th>3169_nmae</th>\n",
       "      <th>1857_nmae</th>\n",
       "      <th>657_nmae</th>\n",
       "      <th>1869_nmae</th>\n",
       "      <th>669_nmae</th>\n",
       "      <th>4382_nmae</th>\n",
       "      <th>3182_nmae</th>\n",
       "    </tr>\n",
       "  </thead>\n",
       "  <tbody>\n",
       "    <tr>\n",
       "      <th>49</th>\n",
       "      <td>0.102</td>\n",
       "      <td>0.1047</td>\n",
       "      <td>0.0946</td>\n",
       "      <td>0.1106</td>\n",
       "      <td>0.0921</td>\n",
       "      <td>0.1244</td>\n",
       "      <td>0.1359</td>\n",
       "      <td>0.1276</td>\n",
       "      <td>0.125</td>\n",
       "      <td>0.1387</td>\n",
       "      <td>...</td>\n",
       "      <td>0.0853</td>\n",
       "      <td>0.1111</td>\n",
       "      <td>0.0941</td>\n",
       "      <td>0.075</td>\n",
       "      <td>0.1219</td>\n",
       "      <td>0.1615</td>\n",
       "      <td>0.1263</td>\n",
       "      <td>0.1185</td>\n",
       "      <td>0.1338</td>\n",
       "      <td>0.11</td>\n",
       "    </tr>\n",
       "  </tbody>\n",
       "</table>\n",
       "<p>1 rows × 58 columns</p>\n",
       "</div>"
      ],
      "text/plain": [
       "    9307_nmae  8107_nmae  9319_nmae  8119_nmae  6807_nmae  5607_nmae  \\\n",
       "49      0.102     0.1047     0.0946     0.1106     0.0921     0.1244   \n",
       "\n",
       "    6819_nmae  5619_nmae  9332_nmae  8132_nmae  ...  4357_nmae  3157_nmae  \\\n",
       "49     0.1359     0.1276      0.125     0.1387  ...     0.0853     0.1111   \n",
       "\n",
       "    4369_nmae  3169_nmae  1857_nmae  657_nmae  1869_nmae  669_nmae  4382_nmae  \\\n",
       "49     0.0941      0.075     0.1219    0.1615     0.1263    0.1185     0.1338   \n",
       "\n",
       "    3182_nmae  \n",
       "49       0.11  \n",
       "\n",
       "[1 rows x 58 columns]"
      ]
     },
     "execution_count": 30,
     "metadata": {},
     "output_type": "execute_result"
    }
   ],
   "source": [
    "df.head()"
   ]
  },
  {
   "cell_type": "code",
   "execution_count": 31,
   "metadata": {},
   "outputs": [],
   "source": [
    "# Salvar o DataFrame em um arquivo CSV\n",
    "df.to_csv('/home/patrick/Documents/milan-telecom-analysis-2022-10-11/results/hourly/compiled_results/5_neighbors.csv', index=False)"
   ]
  },
  {
   "cell_type": "code",
   "execution_count": null,
   "metadata": {},
   "outputs": [],
   "source": []
  }
 ],
 "metadata": {
  "kernelspec": {
   "display_name": "milan",
   "language": "python",
   "name": "python3"
  },
  "language_info": {
   "codemirror_mode": {
    "name": "ipython",
    "version": 3
   },
   "file_extension": ".py",
   "mimetype": "text/x-python",
   "name": "python",
   "nbconvert_exporter": "python",
   "pygments_lexer": "ipython3",
   "version": "3.8.13"
  }
 },
 "nbformat": 4,
 "nbformat_minor": 2
}
