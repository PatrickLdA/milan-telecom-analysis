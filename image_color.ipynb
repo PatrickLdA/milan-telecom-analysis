{
 "cells": [
  {
   "cell_type": "code",
   "execution_count": 2,
   "metadata": {},
   "outputs": [],
   "source": [
    "from PIL import Image"
   ]
  },
  {
   "cell_type": "code",
   "execution_count": 13,
   "metadata": {},
   "outputs": [],
   "source": [
    "# Abra a imagem\n",
    "image = Image.open('Boxplot_NMAE_feature_selec_english.jpg')  # Substitua 'sua_imagem.jpg' pelo caminho da sua imagem\n",
    "\n",
    "# Crie uma cópia da imagem\n",
    "image_copy = image.copy()\n",
    "px = image_copy.load()"
   ]
  },
  {
   "cell_type": "code",
   "execution_count": 14,
   "metadata": {},
   "outputs": [
    {
     "ename": "ValueError",
     "evalue": "too many values to unpack (expected 3)",
     "output_type": "error",
     "traceback": [
      "\u001b[0;31m---------------------------------------------------------------------------\u001b[0m",
      "\u001b[0;31mValueError\u001b[0m                                Traceback (most recent call last)",
      "\u001b[1;32m/home/patrick/Documents/milan-telecom-analysis-2022-10-11/image_color.ipynb Célula 3\u001b[0m line \u001b[0;36m<cell line: 5>\u001b[0;34m()\u001b[0m\n\u001b[1;32m      <a href='vscode-notebook-cell://wsl%2Bubuntu/home/patrick/Documents/milan-telecom-analysis-2022-10-11/image_color.ipynb#W2sdnNjb2RlLXJlbW90ZQ%3D%3D?line=4'>5</a>\u001b[0m \u001b[39mfor\u001b[39;00m x \u001b[39min\u001b[39;00m \u001b[39mrange\u001b[39m(largura):\n\u001b[1;32m      <a href='vscode-notebook-cell://wsl%2Bubuntu/home/patrick/Documents/milan-telecom-analysis-2022-10-11/image_color.ipynb#W2sdnNjb2RlLXJlbW90ZQ%3D%3D?line=5'>6</a>\u001b[0m     \u001b[39mfor\u001b[39;00m y \u001b[39min\u001b[39;00m \u001b[39mrange\u001b[39m(altura):\n\u001b[1;32m      <a href='vscode-notebook-cell://wsl%2Bubuntu/home/patrick/Documents/milan-telecom-analysis-2022-10-11/image_color.ipynb#W2sdnNjb2RlLXJlbW90ZQ%3D%3D?line=6'>7</a>\u001b[0m         \u001b[39m# Obtém o valor RGB do pixel\u001b[39;00m\n\u001b[0;32m----> <a href='vscode-notebook-cell://wsl%2Bubuntu/home/patrick/Documents/milan-telecom-analysis-2022-10-11/image_color.ipynb#W2sdnNjb2RlLXJlbW90ZQ%3D%3D?line=7'>8</a>\u001b[0m         r, g, b \u001b[39m=\u001b[39m px[x, y]\n\u001b[1;32m     <a href='vscode-notebook-cell://wsl%2Bubuntu/home/patrick/Documents/milan-telecom-analysis-2022-10-11/image_color.ipynb#W2sdnNjb2RlLXJlbW90ZQ%3D%3D?line=9'>10</a>\u001b[0m         \u001b[39mif\u001b[39;00m r\u001b[39m!=\u001b[39m\u001b[39m0\u001b[39m \u001b[39m&\u001b[39m g\u001b[39m!=\u001b[39m\u001b[39m0\u001b[39m \u001b[39m&\u001b[39m b\u001b[39m!=\u001b[39m\u001b[39m0\u001b[39m:\n\u001b[1;32m     <a href='vscode-notebook-cell://wsl%2Bubuntu/home/patrick/Documents/milan-telecom-analysis-2022-10-11/image_color.ipynb#W2sdnNjb2RlLXJlbW90ZQ%3D%3D?line=10'>11</a>\u001b[0m             \u001b[39m# Define o pixel para vermelho (255, 0, 0)\u001b[39;00m\n\u001b[1;32m     <a href='vscode-notebook-cell://wsl%2Bubuntu/home/patrick/Documents/milan-telecom-analysis-2022-10-11/image_color.ipynb#W2sdnNjb2RlLXJlbW90ZQ%3D%3D?line=11'>12</a>\u001b[0m             px[x, y] \u001b[39m=\u001b[39m [\u001b[39m255\u001b[39m, \u001b[39m0\u001b[39m, \u001b[39m0\u001b[39m]\n",
      "\u001b[0;31mValueError\u001b[0m: too many values to unpack (expected 3)"
     ]
    }
   ],
   "source": [
    "# Obtém as dimensões da imagem\n",
    "largura, altura = image.size\n",
    "\n",
    "# Itera através de todos os pixels da imagem\n",
    "for x in range(largura):\n",
    "    for y in range(altura):\n",
    "        # Obtém o valor RGB do pixel\n",
    "        r, g, b = image_copy[x, y]\n",
    "        \n",
    "        if r!=0 & g!=0 & b!=0:\n",
    "            # Define o pixel para vermelho (255, 0, 0)\n",
    "            image_copy.putpixel((x, y), (255, 0, 0))\n",
    "\n",
    "# Salve a imagem modificada\n",
    "image_copy.save('imagem_vermelha.jpg')  # Substitua 'imagem_vermelha.jpg' pelo nome do arquivo de saída\n"
   ]
  },
  {
   "cell_type": "code",
   "execution_count": 15,
   "metadata": {},
   "outputs": [
    {
     "data": {
      "text/plain": [
       "(255, 255, 255, 255)"
      ]
     },
     "execution_count": 15,
     "metadata": {},
     "output_type": "execute_result"
    }
   ],
   "source": [
    "px[x, y]"
   ]
  },
  {
   "cell_type": "code",
   "execution_count": 7,
   "metadata": {},
   "outputs": [
    {
     "data": {
      "text/plain": [
       "0"
      ]
     },
     "execution_count": 7,
     "metadata": {},
     "output_type": "execute_result"
    }
   ],
   "source": [
    "x"
   ]
  },
  {
   "cell_type": "code",
   "execution_count": 8,
   "metadata": {},
   "outputs": [
    {
     "data": {
      "text/plain": [
       "0"
      ]
     },
     "execution_count": 8,
     "metadata": {},
     "output_type": "execute_result"
    }
   ],
   "source": [
    "y"
   ]
  },
  {
   "cell_type": "code",
   "execution_count": null,
   "metadata": {},
   "outputs": [],
   "source": []
  }
 ],
 "metadata": {
  "kernelspec": {
   "display_name": "milan",
   "language": "python",
   "name": "python3"
  },
  "language_info": {
   "codemirror_mode": {
    "name": "ipython",
    "version": 3
   },
   "file_extension": ".py",
   "mimetype": "text/x-python",
   "name": "python",
   "nbconvert_exporter": "python",
   "pygments_lexer": "ipython3",
   "version": "3.8.13"
  },
  "orig_nbformat": 4
 },
 "nbformat": 4,
 "nbformat_minor": 2
}
